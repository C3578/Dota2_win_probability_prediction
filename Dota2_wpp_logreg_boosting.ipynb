{
 "cells": [
  {
   "cell_type": "markdown",
   "metadata": {},
   "source": [
    "#  Подход 1: градиентный бустинг \"в лоб\""
   ]
  },
  {
   "cell_type": "code",
   "execution_count": 1,
   "metadata": {},
   "outputs": [],
   "source": [
    "import json\n",
    "import bz2\n",
    "import pandas as pd\n",
    "from sklearn.ensemble import GradientBoostingClassifier as GBC\n",
    "from sklearn.model_selection import KFold\n",
    "from sklearn.metrics import roc_auc_score\n",
    "from sklearn.model_selection import cross_val_score\n",
    "from sklearn.metrics import make_scorer\n",
    "import time\n",
    "import datetime"
   ]
  },
  {
   "cell_type": "code",
   "execution_count": 2,
   "metadata": {},
   "outputs": [],
   "source": [
    "kf = KFold(n_splits=5, shuffle=True, random_state=241)"
   ]
  },
  {
   "cell_type": "code",
   "execution_count": 3,
   "metadata": {},
   "outputs": [],
   "source": [
    "df = pd.read_csv('./features.csv', index_col='match_id')"
   ]
  },
  {
   "cell_type": "code",
   "execution_count": 4,
   "metadata": {},
   "outputs": [],
   "source": [
    "X = df.copy(deep=True)\n",
    "y = df['radiant_win'].copy(deep=True)"
   ]
  },
  {
   "cell_type": "code",
   "execution_count": 5,
   "metadata": {},
   "outputs": [],
   "source": [
    "col = ['duration', 'radiant_win', 'tower_status_radiant', 'tower_status_dire', \n",
    "       'barracks_status_radiant', 'barracks_status_dire']"
   ]
  },
  {
   "cell_type": "code",
   "execution_count": 6,
   "metadata": {},
   "outputs": [
    {
     "data": {
      "text/plain": [
       "102"
      ]
     },
     "execution_count": 6,
     "metadata": {},
     "output_type": "execute_result"
    }
   ],
   "source": [
    "for i in col:\n",
    "    del X[i]\n",
    "len(X.columns)"
   ]
  },
  {
   "cell_type": "code",
   "execution_count": 7,
   "metadata": {},
   "outputs": [
    {
     "name": "stdout",
     "output_type": "stream",
     "text": [
      "first_blood_time               77677\n",
      "first_blood_team               77677\n",
      "first_blood_player1            77677\n",
      "first_blood_player2            53243\n",
      "radiant_bottle_time            81539\n",
      "radiant_courier_time           96538\n",
      "radiant_flying_courier_time    69751\n",
      "radiant_first_ward_time        95394\n",
      "dire_bottle_time               81087\n",
      "dire_courier_time              96554\n",
      "dire_flying_courier_time       71132\n",
      "dire_first_ward_time           95404\n",
      "dtype: int64\n"
     ]
    }
   ],
   "source": [
    "# Находим признаки имеющие пропуски\n",
    "a = X.count(axis=0)\n",
    "print(a[a <97230])"
   ]
  },
  {
   "cell_type": "code",
   "execution_count": 8,
   "metadata": {},
   "outputs": [],
   "source": [
    "X = X.fillna(0).copy(deep=True)  # Приравниваем пропущенные значения к 0"
   ]
  },
  {
   "cell_type": "code",
   "execution_count": 9,
   "metadata": {},
   "outputs": [
    {
     "name": "stdout",
     "output_type": "stream",
     "text": [
      "97230\n",
      "97230\n",
      "Series([], dtype: int64)\n"
     ]
    }
   ],
   "source": [
    "a = X.count(axis=0)  # Проверяем все ли значения указаны\n",
    "print(max(a))\n",
    "print(min(a))\n",
    "print(a[a <97230])"
   ]
  },
  {
   "cell_type": "code",
   "execution_count": 10,
   "metadata": {},
   "outputs": [],
   "source": [
    "def scor(X, y, n, md):\n",
    "    gbc = GBC(n_estimators=n, verbose=False, random_state=241, max_depth=md)\n",
    "    scor = cross_val_score(gbc, X, y, scoring = 'roc_auc', cv = kf)\n",
    "    return scor"
   ]
  },
  {
   "cell_type": "code",
   "execution_count": 11,
   "metadata": {},
   "outputs": [],
   "source": [
    "  #  Кросс-валидация для градиентного бустинга с 10, 20, 30 деревьями\n",
    "list1 = []\n",
    "all_scores = {}\n",
    "time = {}\n",
    "for i in [10, 20, 30]:\n",
    "    start_time = datetime.datetime.now()\n",
    "    scores = scor(X, y, i, 3)\n",
    "    r = scores.mean()\n",
    "    all_scores['n_estimators=' + str(i)] = [scores]\n",
    "    list1 += [('n_estimators=' + str(i) + ' ' + str(r))]\n",
    "    time[('n_estimators=' + str(i) + ' Time elapsed:')] = datetime.datetime.now() - start_time"
   ]
  },
  {
   "cell_type": "code",
   "execution_count": 12,
   "metadata": {},
   "outputs": [
    {
     "data": {
      "text/plain": [
       "{'n_estimators=10': [array([0.66943496, 0.65627754, 0.66390454, 0.66281223, 0.66950933])],\n",
       " 'n_estimators=20': [array([0.68939011, 0.67567277, 0.68201026, 0.67977584, 0.68741889])],\n",
       " 'n_estimators=30': [array([0.69641668, 0.68365441, 0.68731862, 0.68728458, 0.69280674])]}"
      ]
     },
     "execution_count": 12,
     "metadata": {},
     "output_type": "execute_result"
    }
   ],
   "source": [
    "all_scores"
   ]
  },
  {
   "cell_type": "code",
   "execution_count": 13,
   "metadata": {},
   "outputs": [
    {
     "data": {
      "text/plain": [
       "['n_estimators=10 0.6643877206345741',\n",
       " 'n_estimators=20 0.6828535735340823',\n",
       " 'n_estimators=30 0.6894962060591201']"
      ]
     },
     "execution_count": 13,
     "metadata": {},
     "output_type": "execute_result"
    }
   ],
   "source": [
    "list1"
   ]
  },
  {
   "cell_type": "code",
   "execution_count": 14,
   "metadata": {},
   "outputs": [
    {
     "data": {
      "text/plain": [
       "{'n_estimators=10 Time elapsed:': datetime.timedelta(seconds=64, microseconds=98803),\n",
       " 'n_estimators=20 Time elapsed:': datetime.timedelta(seconds=109, microseconds=534147),\n",
       " 'n_estimators=30 Time elapsed:': datetime.timedelta(seconds=155, microseconds=939137)}"
      ]
     },
     "execution_count": 14,
     "metadata": {},
     "output_type": "execute_result"
    }
   ],
   "source": [
    "time"
   ]
  },
  {
   "cell_type": "code",
   "execution_count": 15,
   "metadata": {},
   "outputs": [
    {
     "name": "stdout",
     "output_type": "stream",
     "text": [
      "0:02:36.118256\n",
      "0.6894962060591201\n"
     ]
    }
   ],
   "source": [
    "#  Кросс-валидация для градиентного бустинга 50 деревьев, глубина 2\n",
    "start_time = datetime.datetime.now()\n",
    "scores = scor(X, y, 30, 3)\n",
    "print(datetime.datetime.now() - start_time)\n",
    "r = scores.mean()\n",
    "print(r)"
   ]
  },
  {
   "cell_type": "markdown",
   "metadata": {},
   "source": [
    "Кросс-валидация для градиентного бустинга с 30 деревьями проводилась 171 секунду, \n",
    "качество при этом ровняется scores.mean = 0.6313. Я попробовал использовать 50 деревьев \n",
    "среднее качество по кросс-валидации(5 блоков) получилось 0.6345,  время (seconds=146). \n",
    "При моих данных получается , что имеет смысл использовать больше 30 деревьев. \n",
    "Чтобы ускорить его обучение при увеличении количества деревьев, я предложил  использовать \n",
    "для обучения и кросс-валидации не всю выборку, а некоторое ее подмножество."
   ]
  },
  {
   "cell_type": "markdown",
   "metadata": {},
   "source": [
    "#  Подход 2: логистическая регрессия"
   ]
  },
  {
   "cell_type": "code",
   "execution_count": null,
   "metadata": {},
   "outputs": [],
   "source": [
    "import json\n",
    "import bz2\n",
    "import pandas as pd\n",
    "from sklearn.model_selection import GridSearchCV\n",
    "from sklearn.linear_model import LogisticRegression\n",
    "from sklearn.preprocessing import StandardScaler\n",
    "import numpy as np"
   ]
  },
  {
   "cell_type": "code",
   "execution_count": null,
   "metadata": {},
   "outputs": [],
   "source": [
    "df = pd.read_csv('./features.csv', index_col='match_id')"
   ]
  },
  {
   "cell_type": "code",
   "execution_count": null,
   "metadata": {},
   "outputs": [],
   "source": [
    "y = df['radiant_win'].copy(deep=True)\n",
    "X = df.copy(deep=True).fillna(0)  # Приравниваем пропущенные значения к 0\n",
    "col = ['duration', 'radiant_win', 'tower_status_radiant', 'tower_status_dire',\n",
    "       'barracks_status_radiant', 'barracks_status_dire']\n",
    "for i in col:\n",
    "    del X[i]     #  Удаляем признаки, связанные с итогами матча"
   ]
  },
  {
   "cell_type": "code",
   "execution_count": null,
   "metadata": {},
   "outputs": [],
   "source": [
    "# Масштабируем признаки\n",
    "def scaler_(X):\n",
    "    scaler = StandardScaler()\n",
    "    scaler.fit(X)\n",
    "    X_scaler = scaler.transform(X)\n",
    "    return X_scaler"
   ]
  },
  {
   "cell_type": "code",
   "execution_count": null,
   "metadata": {},
   "outputs": [],
   "source": [
    "# Подбираем параметр С\n",
    "def grid_(X, y):\n",
    "    X = scaler_(X)\n",
    "    start_time = datetime.datetime.now()\n",
    "    grid = {'C': np.power(10.0, np.arange(-5, 6))}\n",
    "    cv = KFold(n_splits=5, shuffle=True, random_state=241)\n",
    "    clf = LogisticRegression(random_state=241, solver='lbfgs', class_weight='balanced', warm_start=True)\n",
    "    gs = GridSearchCV(clf, grid, scoring = 'roc_auc', cv=cv)\n",
    "    gs.fit(X, y)\n",
    "    time = datetime.datetime.now() - start_time\n",
    "    global C\n",
    "    C = gs.best_params_['C']\n",
    "    print(gs.best_score_)\n",
    "    print('C =', gs.best_params_['C'])\n",
    "    print('time:', time)"
   ]
  },
  {
   "cell_type": "code",
   "execution_count": null,
   "metadata": {},
   "outputs": [],
   "source": [
    "# Оценивает качество логистической регрессии с помощью кросс-валидации(5 блоков) с найденным параметром С\n",
    "def log_reg(X, y):\n",
    "    global clf\n",
    "    X = scaler_(X)\n",
    "    start_time = datetime.datetime.now()\n",
    "    clf = LogisticRegression(random_state=241, solver='lbfgs', class_weight='balanced', warm_start=True, C=0.001)\n",
    "    kf = KFold(n_splits=5, shuffle=True, random_state=241)\n",
    "    scores = cross_val_score(clf, X, y, scoring = 'roc_auc', cv = kf)\n",
    "    time = (datetime.datetime.now() - start_time)\n",
    "    r = scores.mean()\n",
    "    print(scores)\n",
    "    print(r)\n",
    "    print('time:', time)"
   ]
  },
  {
   "cell_type": "markdown",
   "metadata": {},
   "source": [
    "###  Качество логистической регрессии над всеми исходными признакам"
   ]
  },
  {
   "cell_type": "code",
   "execution_count": null,
   "metadata": {},
   "outputs": [],
   "source": [
    "grid_(X, y)"
   ]
  },
  {
   "cell_type": "code",
   "execution_count": null,
   "metadata": {},
   "outputs": [],
   "source": [
    "log_reg(X, y)"
   ]
  },
  {
   "cell_type": "markdown",
   "metadata": {},
   "source": [
    "###  Качество логистической регрессии, при удаление категориальных признаков "
   ]
  },
  {
   "cell_type": "code",
   "execution_count": null,
   "metadata": {},
   "outputs": [],
   "source": [
    "col_2 = ['lobby_type', 'r1_hero', 'r2_hero', 'r3_hero', 'r4_hero', 'r5_hero', \n",
    "       'd1_hero', 'd2_hero', 'd3_hero', 'd4_hero',  'd5_hero']"
   ]
  },
  {
   "cell_type": "code",
   "execution_count": null,
   "metadata": {},
   "outputs": [],
   "source": [
    "#  удаление категориальных признаков \n",
    "for i in col_2:\n",
    "    del X[i]\n",
    "len(X.columns)"
   ]
  },
  {
   "cell_type": "code",
   "execution_count": null,
   "metadata": {},
   "outputs": [],
   "source": [
    "grid_(X, y)  #  Подбираем С на данных без категориальных признаков"
   ]
  },
  {
   "cell_type": "code",
   "execution_count": null,
   "metadata": {},
   "outputs": [],
   "source": [
    "log_reg(X, y)  #  качество логистической регрессии на данных без категориальных признаков"
   ]
  },
  {
   "cell_type": "markdown",
   "metadata": {},
   "source": [
    "### Включаем в работу исключенные ранее признаки rM_hero и dM_hero, которые показывают, какие именно герои играли за каждую команду. "
   ]
  },
  {
   "cell_type": "code",
   "execution_count": null,
   "metadata": {},
   "outputs": [],
   "source": [
    "X_3 = df[['r1_hero', 'r2_hero', 'r3_hero', 'r4_hero', 'r5_hero', \n",
    "       'd1_hero', 'd2_hero', 'd3_hero', 'd4_hero',  'd5_hero']].copy(deep=True)"
   ]
  },
  {
   "cell_type": "code",
   "execution_count": null,
   "metadata": {},
   "outputs": [],
   "source": [
    "unique_hero = np.unique(X_3, axis=0).reshape((1,972300))[0]"
   ]
  },
  {
   "cell_type": "code",
   "execution_count": null,
   "metadata": {},
   "outputs": [],
   "source": [
    "unique_hero = np.unique(unique_hero, axis=0)"
   ]
  },
  {
   "cell_type": "code",
   "execution_count": null,
   "metadata": {},
   "outputs": [],
   "source": [
    "len(unique_hero)"
   ]
  },
  {
   "cell_type": "code",
   "execution_count": null,
   "metadata": {},
   "outputs": [],
   "source": [
    "N = len(unique_hero)"
   ]
  },
  {
   "cell_type": "code",
   "execution_count": null,
   "metadata": {},
   "outputs": [],
   "source": [
    "X_pick = np.zeros((df.shape[0], 112))\n",
    "\n",
    "for i, match_id in enumerate(df.index):\n",
    "    for p in range(5):\n",
    "        X_pick[i, df.loc[match_id, 'r%d_hero' % (p+1)]-1] = 1\n",
    "        X_pick[i, df.loc[match_id, 'd%d_hero' % (p+1)]-1] = -1"
   ]
  },
  {
   "cell_type": "code",
   "execution_count": null,
   "metadata": {},
   "outputs": [],
   "source": [
    "X_pick = pd.DataFrame(X_pick)"
   ]
  },
  {
   "cell_type": "code",
   "execution_count": null,
   "metadata": {},
   "outputs": [],
   "source": [
    "X_pick = X_pick.fillna(0)"
   ]
  },
  {
   "cell_type": "code",
   "execution_count": null,
   "metadata": {},
   "outputs": [],
   "source": [
    "X = np.hstack((X, X_pick))"
   ]
  },
  {
   "cell_type": "code",
   "execution_count": null,
   "metadata": {},
   "outputs": [],
   "source": [
    "grid_(X, y)"
   ]
  },
  {
   "cell_type": "code",
   "execution_count": null,
   "metadata": {},
   "outputs": [],
   "source": [
    "log_reg(X, y)"
   ]
  },
  {
   "cell_type": "markdown",
   "metadata": {},
   "source": [
    "### Проверка финальной модели"
   ]
  },
  {
   "cell_type": "code",
   "execution_count": null,
   "metadata": {},
   "outputs": [],
   "source": [
    "df_1 = pd.read_csv('./features_test.csv', index_col='match_id')"
   ]
  },
  {
   "cell_type": "code",
   "execution_count": null,
   "metadata": {},
   "outputs": [],
   "source": [
    "X_1 = df_1.copy(deep=True).fillna(0)  # Приравниваем пропущенные значения к 0\n",
    "    \n",
    "#  преобразование категориальных признаков \n",
    "for i in col_2:\n",
    "    del X_1[i]\n",
    "\n",
    "X_pick = np.zeros((df_1.shape[0], 112))\n",
    "\n",
    "for i, match_id in enumerate(df_1.index):\n",
    "    for p in range(5):\n",
    "        X_pick[i, df_1.loc[match_id, 'r%d_hero' % (p+1)]-1] = 1\n",
    "        X_pick[i, df_1.loc[match_id, 'd%d_hero' % (p+1)]-1] = -1\n",
    "        \n",
    "X_pick = pd.DataFrame(X_pick)\n",
    "X_pick = X_pick.fillna(0)\n",
    "X_1 = np.hstack((X_1, X_pick))"
   ]
  },
  {
   "cell_type": "code",
   "execution_count": null,
   "metadata": {},
   "outputs": [],
   "source": [
    "X = scaler_(X)\n",
    "clf = LogisticRegression(random_state=241, solver='lbfgs', class_weight='balanced', warm_start=True, C=0.001)\n",
    "clf.fit(X,y)\n"
   ]
  },
  {
   "cell_type": "code",
   "execution_count": null,
   "metadata": {},
   "outputs": [],
   "source": [
    "X_1 = scaler_(X_1)\n",
    "pred = clf.predict_proba(X_1)[:, 1]"
   ]
  },
  {
   "cell_type": "code",
   "execution_count": null,
   "metadata": {},
   "outputs": [],
   "source": [
    "X_4 = df_1['start_time'].copy(deep=True)"
   ]
  },
  {
   "cell_type": "code",
   "execution_count": null,
   "metadata": {},
   "outputs": [],
   "source": [
    "X_4 = pd.DataFrame(X_4)"
   ]
  },
  {
   "cell_type": "code",
   "execution_count": null,
   "metadata": {},
   "outputs": [],
   "source": [
    "X_4 = X_4.rename(columns={'start_time': 'radiant_win'})"
   ]
  },
  {
   "cell_type": "code",
   "execution_count": null,
   "metadata": {},
   "outputs": [],
   "source": [
    "X_4['radiant_win'] = pred"
   ]
  },
  {
   "cell_type": "code",
   "execution_count": null,
   "metadata": {},
   "outputs": [],
   "source": [
    "#  минимальное и максимальное значение прогноза на тестовой выборке лучшего из алгоритмов\n",
    "print('min =', min(X_4['radiant_win'])) \n",
    "print('max =', max(X_4['radiant_win']))"
   ]
  },
  {
   "cell_type": "code",
   "execution_count": null,
   "metadata": {},
   "outputs": [],
   "source": [
    "X_4.to_csv('submission_1.csv')"
   ]
  }
 ],
 "metadata": {
  "kernelspec": {
   "display_name": "Python 3",
   "language": "python",
   "name": "python3"
  },
  "language_info": {
   "codemirror_mode": {
    "name": "ipython",
    "version": 3
   },
   "file_extension": ".py",
   "mimetype": "text/x-python",
   "name": "python",
   "nbconvert_exporter": "python",
   "pygments_lexer": "ipython3",
   "version": "3.7.1"
  }
 },
 "nbformat": 4,
 "nbformat_minor": 2
}
